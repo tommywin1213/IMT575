{
 "cells": [
  {
   "cell_type": "markdown",
   "id": "189f7cd3",
   "metadata": {},
   "source": [
    "# OVERVIEW\n",
    "\n",
    "In this lab, you will perform a supervised text regression task. The data for the task will consist of student essays from The William and Flora Hewlett Foundation. The dataset was created to assist in the design of solutions for automated grading of student-written essays. You will use a subset of this dataset and predict the scores of the essays. You may not use external data to make predictions. \n",
    "\n",
    "You will be provided with two compressed folders: train.tsv and test.tsv. Both files contain the text of the essay and the score of each essay.\n",
    "\n"
   ]
  },
  {
   "cell_type": "markdown",
   "id": "a7291948",
   "metadata": {},
   "source": [
    "# PART 1: SETUP"
   ]
  },
  {
   "cell_type": "markdown",
   "id": "4f4be781",
   "metadata": {},
   "source": [
    "### Q0: Run the following code! \n",
    "    \n",
    "For reproducibility purposes, you will set the random seeds for NumPy and TensorFlow as 1234.  This way, all random steps will produce the same answers.\n"
   ]
  },
  {
   "cell_type": "code",
   "execution_count": 1,
   "id": "275ea83b",
   "metadata": {},
   "outputs": [
    {
     "ename": "ModuleNotFoundError",
     "evalue": "No module named 'tensorflow'",
     "output_type": "error",
     "traceback": [
      "\u001b[1;31m---------------------------------------------------------------------------\u001b[0m",
      "\u001b[1;31mModuleNotFoundError\u001b[0m                       Traceback (most recent call last)",
      "Input \u001b[1;32mIn [1]\u001b[0m, in \u001b[0;36m<cell line: 3>\u001b[1;34m()\u001b[0m\n\u001b[0;32m      1\u001b[0m \u001b[38;5;28;01mfrom\u001b[39;00m \u001b[38;5;21;01mnumpy\u001b[39;00m\u001b[38;5;21;01m.\u001b[39;00m\u001b[38;5;21;01mrandom\u001b[39;00m \u001b[38;5;28;01mimport\u001b[39;00m seed\n\u001b[1;32m----> 3\u001b[0m \u001b[38;5;28;01mimport\u001b[39;00m \u001b[38;5;21;01mtensorflow\u001b[39;00m \u001b[38;5;28;01mas\u001b[39;00m \u001b[38;5;21;01mtf\u001b[39;00m\n\u001b[0;32m      5\u001b[0m seed(\u001b[38;5;241m1234\u001b[39m)\n\u001b[0;32m      7\u001b[0m tf\u001b[38;5;241m.\u001b[39mrandom\u001b[38;5;241m.\u001b[39mset_seed(seed \u001b[38;5;241m=\u001b[39m \u001b[38;5;241m1234\u001b[39m)\n",
      "\u001b[1;31mModuleNotFoundError\u001b[0m: No module named 'tensorflow'"
     ]
    }
   ],
   "source": [
    "from numpy.random import seed\n",
    "\n",
    "import tensorflow as tf\n",
    "\n",
    "seed(1234)\n",
    "\n",
    "tf.random.set_seed(seed = 1234)\n"
   ]
  },
  {
   "cell_type": "markdown",
   "id": "4a12d2cd",
   "metadata": {},
   "source": [
    "### Q1: Load the data\n",
    "🎒<font color='red'>(1 point)</font>\n",
    "\n",
    "We will use data from the [automated essay scoring task](https://www.kaggle.com/c/asap-aes) on Kaggle.\n",
    "\n",
    "We will only use the training data, which we have provided for you -- you don't need to download anything from Kaggle.\n",
    "\n",
    "Access the file `training_set_rel3.tsv` from Files -> Module 5 -> Lab_05_15_Text_Classification -> training_set_rel3.tsv\n",
    "\n",
    "Please load the data from the current directory so that we can run your notebook unmodified.  \n",
    "\n",
    "Use the pandas function `read_csv`, with the parameter `sep=\\t` because this is a tab-separated value file (tsv). \n",
    "\n",
    "The columns are described on the [Kaggle site](https://www.kaggle.com/competitions/asap-aes/data)\n",
    "\n",
    "We will use three columns: `essay`, `essay_set`, and `domain1_score`.\n",
    "\n",
    "Create a new dataframe with only these three columns, and rename `domain1_score` to just `score`.\n",
    "\n",
    "Display this dataframe."
   ]
  },
  {
   "cell_type": "code",
   "execution_count": 39,
   "id": "a6d0fc00",
   "metadata": {},
   "outputs": [
    {
     "name": "stdout",
     "output_type": "stream",
     "text": [
      "                                                   essay  essay_set  score\n",
      "0      Dear local newspaper, I think effects computer...          1      8\n",
      "1      Dear @CAPS1 @CAPS2, I believe that using compu...          1      9\n",
      "2      Dear, @CAPS1 @CAPS2 @CAPS3 More and more peopl...          1      7\n",
      "3      Dear Local Newspaper, @CAPS1 I have found that...          1     10\n",
      "4      Dear @LOCATION1, I know having computers has a...          1      8\n",
      "...                                                  ...        ...    ...\n",
      "12971   In most stories mothers and daughters are eit...          8     35\n",
      "12972   I never understood the meaning laughter is th...          8     32\n",
      "12973  When you laugh, is @CAPS5 out of habit, or is ...          8     40\n",
      "12974                                 Trippin' on fen...          8     40\n",
      "12975   Many people believe that laughter can improve...          8     40\n",
      "\n",
      "[12976 rows x 3 columns]\n"
     ]
    }
   ],
   "source": [
    "import pandas as pd\n",
    "\n",
    "#imoprt dataset\n",
    "data = pd.read_csv('training_set_rel3.tsv', sep = '\\t')\n",
    "\n",
    "#subset dataset\n",
    "training_df = data[[\"essay\", \"essay_set\", \"domain1_score\"]]\n",
    "\n",
    "#rename domain score column\n",
    "training_df = training_df.rename(columns={'domain1_score': 'score'})\n",
    "\n",
    "print(training_df)"
   ]
  },
  {
   "cell_type": "markdown",
   "id": "ec664c1a",
   "metadata": {},
   "source": [
    "## Q2: Select the data from a single essay set\n",
    "🎒<font color='red'>(1 point)</font>\n",
    "\n",
    "There are 8 totally unrelated essay sets in this data.\n",
    "\n",
    "Filter the data frame so we are only considering essay_set = 7"
   ]
  },
  {
   "cell_type": "code",
   "execution_count": 41,
   "id": "27205d26",
   "metadata": {},
   "outputs": [
    {
     "name": "stdout",
     "output_type": "stream",
     "text": [
      "                                                   essay  essay_set  score\n",
      "10684  Patience is when your waiting .I was patience ...          7     15\n",
      "10685  I am not a patience person, like I can’t sit i...          7     13\n",
      "10686  One day I was at basketball practice and I was...          7     15\n",
      "10687  I going to write about a time when I went to t...          7     17\n",
      "10688  It can be very hard for somebody to be patient...          7     13\n",
      "...                                                  ...        ...    ...\n",
      "12248  One time I was getting a cool @CAPS1 game it w...          7     12\n",
      "12249  A patent person in my life is my mom. Aicason ...          7     16\n",
      "12250  A time when someone else I know was patient wa...          7     19\n",
      "12251  I hate weddings. I love when people get marrie...          7     22\n",
      "12252  A few weeks ago, we had a garage sale and a mo...          7     15\n",
      "\n",
      "[1569 rows x 3 columns]\n"
     ]
    }
   ],
   "source": [
    "training_df = training_df.loc[training_df['essay_set'] == 7]\n",
    "\n",
    "print(training_df)"
   ]
  },
  {
   "cell_type": "markdown",
   "id": "4e725069",
   "metadata": {},
   "source": [
    "### Q3: Plot the distribution of scores\n",
    "🎒<font color='red'>(3 points)</font>\n",
    "\n",
    "Create a plot of a histogram of the scores in the training set.  Comment on what you see.  \n",
    "\n",
    "One option is to use the [seaborn](https://seaborn.pydata.org/) histplot function.  If you use seaborn, you can use the parameter `bins` to set the bin locations if they look strange. The parameter accepts a list of explicit locations. If you want to center the bins on the tick marks, you cand do something like this:\n",
    "\n",
    "    bins=np.arange(minv,maxv)-0.5\n",
    "    \n",
    "where minv and maxv are the mininmum and maximum value in the range, respectively.   This expression indicates the number of possible scores, and that the tick marks should be at the halfway mark of each bar.\n",
    "\n",
    "You may use some other visualization library if you wish!   The goal is to inspect the distribution of scores.\n"
   ]
  },
  {
   "cell_type": "code",
   "execution_count": null,
   "id": "2d2498ed",
   "metadata": {},
   "outputs": [],
   "source": []
  },
  {
   "cell_type": "markdown",
   "id": "957f5444",
   "metadata": {},
   "source": [
    "### Q4: Create a test/train split\n",
    "🎒<font color='red'>(1 point)</font>\n",
    "\n",
    "Use the function [`train_test_split`](https://scikit-learn.org/stable/modules/generated/sklearn.model_selection.train_test_split.html).  Use the `test_size` parameter to control the size of the test set; use 0.2 to indicate a 20% split."
   ]
  },
  {
   "cell_type": "code",
   "execution_count": 229,
   "id": "22995ac7",
   "metadata": {},
   "outputs": [],
   "source": []
  },
  {
   "cell_type": "markdown",
   "id": "3fd6c188",
   "metadata": {},
   "source": [
    "## Part 2: Conventional Representations"
   ]
  },
  {
   "cell_type": "markdown",
   "id": "5618a438",
   "metadata": {},
   "source": [
    "### Q5: Create vectors using term frequency\n",
    "🎒<font color='red'>(3 points)</font>\n",
    "\n",
    "Use the `CountVectorizer` class from sklearn to create a vector for each essay.  We can't use text directly with machine learning; we need to create a vector of numbers first.  The CountVectorizer creates a vector with one position for each word in the corpus with a value of the number of occurrences of that word in the essay.\n",
    "\n",
    "The vectorizer works like a model in sklearn: call the fit method on the essay data to \"train\" a model on the training set.  In this situation, we aren't really training anything, but we need a corpus to define the vectors -- only the words in the corpus we use will be represented in the vector.  \n",
    "\n",
    "The fit method returns the trained model.  Now we can use the `transform` method to convert any text into a vector.\n",
    "\n",
    "Call the transform method on the training essays and the test essays to create variables `xtrain` and `ytrain`.\n",
    "\n",
    "\n",
    "Report the number of dimensions for each vector; i.e., the number of terms in the corpus. \n"
   ]
  },
  {
   "cell_type": "code",
   "execution_count": 313,
   "id": "66c64db2",
   "metadata": {},
   "outputs": [
    {
     "data": {
      "text/plain": [
       "9529"
      ]
     },
     "execution_count": 313,
     "metadata": {},
     "output_type": "execute_result"
    }
   ],
   "source": []
  },
  {
   "cell_type": "markdown",
   "id": "e87da6a7",
   "metadata": {},
   "source": [
    "### Q6: Train a regression model using your vectors\n",
    "🎒<font color='red'>(2 point)</font>\n",
    "\n",
    "Now that we have vectors, we can train a regression model to predict the essay score.\n",
    "\n",
    "Use a [`Ridge`](https://scikit-learn.org/stable/modules/generated/sklearn.linear_model.Ridge.html) model.\n",
    "\n",
    "Call the fit method on your training data xtrain and ytrain.\n",
    "\n",
    "Then call the score method on your test data xtest and ytest.  The score method provides a default evaluation metric.  For the Ridge model, the score method returns $R^2$ which is called the coefficient of determination.  It tells you the proportion of the variation in the essay score is predictable from the essay text: higher is better.\n",
    "\n",
    "Report the coefficient of determination."
   ]
  },
  {
   "cell_type": "code",
   "execution_count": 314,
   "id": "9c44ba06",
   "metadata": {},
   "outputs": [
    {
     "data": {
      "text/plain": [
       "0.20398635634925988"
      ]
     },
     "execution_count": 314,
     "metadata": {},
     "output_type": "execute_result"
    }
   ],
   "source": []
  },
  {
   "cell_type": "markdown",
   "id": "8004e97a",
   "metadata": {},
   "source": [
    "### Q7: Plot the distribution of scores \n",
    "🎒<font color='red'>(2 points)</font>\n",
    "\n",
    "Plot a histogram of your predicted scores.\n",
    "\n",
    "Plot another histogram of the ground truth scores, superimposed on the first (using seaborn, just call the function again.)\n",
    "\n",
    "How is your model's distribution of scores different from the ground truth distribution?  Describe how they differ; what kind of mistakes is your model making?"
   ]
  },
  {
   "cell_type": "code",
   "execution_count": 369,
   "id": "4e2be6e3",
   "metadata": {},
   "outputs": [
    {
     "data": {
      "text/plain": [
       "<AxesSubplot:ylabel='Count'>"
      ]
     },
     "execution_count": 369,
     "metadata": {},
     "output_type": "execute_result"
    },
    {
     "data": {
      "image/png": "[encoded data removed]",
      "text/plain": [
       "<Figure size 432x288 with 1 Axes>"
      ]
     },
     "metadata": {},
     "output_type": "display_data"
    }
   ],
   "source": []
  },
  {
   "cell_type": "markdown",
   "id": "ee8cdc87",
   "metadata": {},
   "source": [
    "Describe the differences here..."
   ]
  },
  {
   "cell_type": "markdown",
   "id": "6b3821d7",
   "metadata": {},
   "source": [
    "### Q8: Train a new model using TF-IDF instead of term frequencies\n",
    "🎒<font color='red'>(1 points)</font>\n",
    "\n",
    "Repeat the last two steps but use the `TfidfVectorizer` class instead of the `CountVectorizer` class.  TF-IDF stands for Term Frequency Inverse Document Frequency: this class creates a vector with one position for each word in the corpus with a value of the number of occurrences of that word in the essay (term frequency) divided by (i.e., normalized by) the number of documents in which that term appears (inverse document frequency).  (Why do we normalize by document frequency?)\n",
    "\n",
    "You can pass in a set of stopwords to prevent those words from being used as part of the corpus.   The library nltk includes a set of stopwords.\n",
    "\n",
    "Report the score of a Ridge model trained using these vectors.  Does the performance improve?  Why?"
   ]
  },
  {
   "cell_type": "code",
   "execution_count": 316,
   "id": "d22fd343",
   "metadata": {},
   "outputs": [
    {
     "data": {
      "text/plain": [
       "0.571454179158216"
      ]
     },
     "execution_count": 316,
     "metadata": {},
     "output_type": "execute_result"
    }
   ],
   "source": []
  },
  {
   "cell_type": "markdown",
   "id": "821ef10e",
   "metadata": {},
   "source": [
    "### Q9: Plot the distribution of scores\n",
    "🎒<font color='red'>(1 point)</font>\n",
    "\n",
    "Plot a histogram of your predicted scores from your new model.\n",
    "\n",
    "Plot another histogram of the ground truth scores.\n",
    "\n",
    "How is your new model's distribution of scores different from the ground truth distribution? Is it doing better than your first model?  How is it doing better?"
   ]
  },
  {
   "cell_type": "code",
   "execution_count": 318,
   "id": "975e4e23",
   "metadata": {},
   "outputs": [
    {
     "data": {
      "text/plain": [
       "<AxesSubplot:ylabel='Count'>"
      ]
     },
     "execution_count": 318,
     "metadata": {},
     "output_type": "execute_result"
    },
    {
     "data": {
      "image/png": "[encoded data removed]",
      "text/plain": [
       "<Figure size 432x288 with 1 Axes>"
      ]
     },
     "metadata": {},
     "output_type": "display_data"
    }
   ],
   "source": []
  },
  {
   "cell_type": "markdown",
   "id": "b40c526e",
   "metadata": {},
   "source": [
    "### Q10: Try to improve on your model\n",
    "🎒<font color='red'>(5 points)</font>\n",
    "\n",
    "Try to find a model that produces a better score.  Some ideas to consider:\n",
    "\n",
    "* Use the `tokenizer` parameter to provide a custom [stemmer/lemmatizer](https://www.nltk.org/howto/stem.html). Use can use one of the lemmatizers from the nltk library.\n",
    "* Use the `ngram_range` parameter of the vectorizer to consider bi-grams (two-term combinations) or tri-grams (three term combinations)\n",
    "* Use the `stopwords` parameter to customize the set of words to ignore when using the corpus.  The library nltk includes a set of stopwords in the corpus module. \n",
    "* Use the `alpha` parameter of the Ridge model to change the strength of regularization.\n",
    "* Use a different linear model, e.g., [Lasso](https://scikit-learn.org/stable/modules/generated/sklearn.linear_model.Lasso.html#sklearn.linear_model.Lasso)\n",
    "\n",
    "Report the score (and make sure the score is still $R^2$ so it can be compared with your previous score.\n",
    "\n",
    "Once again, include a plot of the histogram of scores to get a sense of what kind of mistakes your model is making."
   ]
  },
  {
   "cell_type": "code",
   "execution_count": null,
   "id": "f849d7d1",
   "metadata": {},
   "outputs": [],
   "source": []
  },
  {
   "cell_type": "code",
   "execution_count": null,
   "id": "aaa95b8b",
   "metadata": {},
   "outputs": [],
   "source": []
  },
  {
   "cell_type": "markdown",
   "id": "5aedec96",
   "metadata": {},
   "source": [
    "## Part 3: Neural Network Representations\n"
   ]
  },
  {
   "cell_type": "markdown",
   "id": "c5cea4fa",
   "metadata": {},
   "source": [
    "For this part, we will implement a deep sentence embedder to replace the feature selection process. As a first step, choose your best-performing model from Part 2.\n",
    "\n",
    "This time, you will obtain vectors by using a pre-trained neural network model called the Universal Sentence Encoder.  This model will produce a dense vector from any sequence of text.  (What do I mean by dense?)\n",
    "\n",
    "First, import the model with the following code.  This step will take considerable time -- it is downloading a large pre-trained model for the first time.\n"
   ]
  },
  {
   "cell_type": "code",
   "execution_count": 236,
   "id": "cdb719fe",
   "metadata": {},
   "outputs": [],
   "source": [
    "import tensorflow_hub as hub\n",
    "\n",
    "module_url = \"https://tfhub.dev/google/universal-sentence-encoder/4\"\n",
    "\n",
    "model = hub.load(module_url)"
   ]
  },
  {
   "cell_type": "markdown",
   "id": "2da3d28b",
   "metadata": {},
   "source": [
    "### Q11: Generate embeddings\n",
    "🎒<font color='red'>(1 point)</font>\n",
    "\n",
    "Next, you will embed the data with the imported model. The Universal Sentence Encoder takes a list of strings and generates an embedding (i.e., a vector) for each string. \n",
    "\n",
    "You can call the model you downloaded like a function. \n",
    "\n",
    "Generate a vector for each string in the training set; call this array xtrain.\n",
    "\n",
    "Also generate a vector for each string in the test set; call this array xtest.\n",
    "\n",
    "Notice how long this step takes -- it's a big model."
   ]
  },
  {
   "cell_type": "code",
   "execution_count": 237,
   "id": "45ef1fa5",
   "metadata": {},
   "outputs": [],
   "source": []
  },
  {
   "cell_type": "markdown",
   "id": "c15efcb1",
   "metadata": {},
   "source": [
    "### Q12: Train and evaluate a regression model to predict scores using learned embeddings\n",
    "🎒<font color='red'>(1 point)</font>\n",
    "\n",
    "Now retrain your regression model on these learned embeddings instead of the tfidf vectors.\n",
    "\n",
    "Use the vanilla Ridge model.  Report the score. \n",
    "\n",
    "Which model appears to perform the best?"
   ]
  },
  {
   "cell_type": "code",
   "execution_count": 319,
   "id": "97bc0d0b",
   "metadata": {},
   "outputs": [
    {
     "data": {
      "text/plain": [
       "0.6876467970719029"
      ]
     },
     "execution_count": 319,
     "metadata": {},
     "output_type": "execute_result"
    }
   ],
   "source": []
  },
  {
   "cell_type": "markdown",
   "id": "716f8634",
   "metadata": {},
   "source": [
    "### Q13: Plot the distribution of scores\n",
    "🎒<font color='red'>(1 point)</font>\n",
    "\n",
    "\n",
    "Once again, plot a histogram of your predicted scores from your new model.\n",
    "\n",
    "Plot another histogram of the ground truth scores.\n",
    "\n",
    "How is your new model's distribution of scores different from the ground truth distribution? Is it doing better than your earlier models?  How is it doing better?\n"
   ]
  },
  {
   "cell_type": "code",
   "execution_count": 350,
   "id": "24ca24e4",
   "metadata": {},
   "outputs": [
    {
     "data": {
      "text/plain": [
       "<AxesSubplot:ylabel='Count'>"
      ]
     },
     "execution_count": 350,
     "metadata": {},
     "output_type": "execute_result"
    },
    {
     "data": {
      "image/png": "[encoded data removed]",
      "text/plain": [
       "<Figure size 432x288 with 1 Axes>"
      ]
     },
     "metadata": {},
     "output_type": "display_data"
    }
   ],
   "source": []
  },
  {
   "cell_type": "markdown",
   "id": "d034be29",
   "metadata": {},
   "source": [
    "### Q14: Plot the errors\n",
    "🎒<font color='red'>(1 point)</font>\n",
    "\n",
    "We will analyze the difference between the neural model and your best conventional model.\n",
    "\n",
    "Plot the distribution of errors -- see where the two models made mistakes.\n",
    "\n",
    "The errors are your model's predicted score minus the ground truth human score.\n",
    "\n",
    "Plot a boxplot of the errors for your model using the universal sentence encoder.  Use the seaborn histplot function. \n",
    "\n",
    "x will be the ground truth scores and y is the difference between ground truth and your predictions.  \n",
    "\n",
    "What do you see?  Where does the model tend to make mistakes?"
   ]
  },
  {
   "cell_type": "code",
   "execution_count": 363,
   "id": "6b7ba8a8",
   "metadata": {},
   "outputs": [
    {
     "data": {
      "text/plain": [
       "<AxesSubplot:>"
      ]
     },
     "execution_count": 363,
     "metadata": {},
     "output_type": "execute_result"
    },
    {
     "data": {
      "image/png": "[encoded data removed]",
      "text/plain": [
       "<Figure size 432x288 with 1 Axes>"
      ]
     },
     "metadata": {},
     "output_type": "display_data"
    }
   ],
   "source": []
  },
  {
   "cell_type": "markdown",
   "id": "034b6dba",
   "metadata": {},
   "source": [
    "### Q15: Compare models directly\n",
    "🎒<font color='red'>(1 point)</font>\n",
    "\n",
    "Plot a histogram of the difference between your neural model and the ground truth.\n",
    "\n",
    "Plot another histogram of the difference between your best conventional model and the ground truth.\n",
    "\n",
    "\n",
    "Does either model tend to overestimate or underestimate the true score?"
   ]
  },
  {
   "cell_type": "code",
   "execution_count": 367,
   "id": "9477dc60",
   "metadata": {},
   "outputs": [
    {
     "data": {
      "text/plain": [
       "<AxesSubplot:ylabel='Count'>"
      ]
     },
     "execution_count": 367,
     "metadata": {},
     "output_type": "execute_result"
    },
    {
     "data": {
      "image/png": "[encoded data removed]",
      "text/plain": [
       "<Figure size 432x288 with 1 Axes>"
      ]
     },
     "metadata": {},
     "output_type": "display_data"
    }
   ],
   "source": []
  },
  {
   "cell_type": "markdown",
   "id": "81493a93",
   "metadata": {},
   "source": [
    "Answer the questions here"
   ]
  },
  {
   "cell_type": "markdown",
   "id": "d9e31cc2",
   "metadata": {},
   "source": [
    "### Q14: Summarize your findings\n",
    "🎒<font color='red'>(5 points)</font>\n",
    "\n",
    "Summarize your results. Which approach worked best?  Why?  Does automatic essay scoring appear feasible?  What are some risks or ethical issues with automating this process?   How might we improve on this model?\n",
    "\n",
    "Go back to the beginning and select a different essay set (2, 3, 8).  Re-run your entire notebook.  Do your conclusions change?  Do the models still work well for all essay sets?\n"
   ]
  },
  {
   "cell_type": "markdown",
   "id": "2ab0e376",
   "metadata": {},
   "source": []
  }
 ],
 "metadata": {
  "kernelspec": {
   "display_name": "Python 3 (ipykernel)",
   "language": "python",
   "name": "python3"
  },
  "language_info": {
   "codemirror_mode": {
    "name": "ipython",
    "version": 3
   },
   "file_extension": ".py",
   "mimetype": "text/x-python",
   "name": "python",
   "nbconvert_exporter": "python",
   "pygments_lexer": "ipython3",
   "version": "3.9.7"
  }
 },
 "nbformat": 4,
 "nbformat_minor": 5
}
